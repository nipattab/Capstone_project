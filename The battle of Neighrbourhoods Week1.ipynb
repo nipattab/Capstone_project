{
    "nbformat_minor": 2, 
    "cells": [
        {
            "source": "# NEW INDIAN RESTAURANT IN WORLD'S TOP BUSINESS CENTERS\n__ __", 
            "cell_type": "markdown", 
            "metadata": {}
        }, 
        {
            "source": "# Introduction", 
            "cell_type": "markdown", 
            "metadata": {}
        }, 
        {
            "source": "__This report is for those who are planning to start a new business in worlds top business centers like Toronto or San Francisco. Suggestions will be based on all the factors need to be considered while starting a new venture.__\n", 
            "cell_type": "markdown", 
            "metadata": {}
        }, 
        {
            "source": "# Business Problem\n\n##### The report will focus on problems while opening a new business in world's top business center. Let us say Rahul is a young dynamic Indian who wants to open an Indian restaurant. Location of the restaurant has to be the most important factor.\n\n#### __While deciding the location of business, key questions need to be answered are:-__\n###### 1. On what basis cities will be selected? \n###### 2. On what basis location can be decided? \n###### 3. Rent or Buy? \n\n##### __Key Points to be considered:__\n###### 1. What are top business cities?\n###### 2. What are prime location for business?\n###### 3. How many Indian Restaurants are there in particular location ? \n###### 5. What are their ratings? \n###### 6. What are the factors that will help Rahul to run his business above average rating?\n\n##### __Out of scope for this project:__  \n###### 1. Budget for running the business 2. Employee salary 3. Promotional factors\n\n", 
            "cell_type": "markdown", 
            "metadata": {}
        }, 
        {
            "source": "# Discusions", 
            "cell_type": "markdown", 
            "metadata": {}
        }, 
        {
            "source": "__Let's discuss the above mentioned problem statements. First Rahul needs to choose a suitable location for his business. Rahul wants to open its Indian Restautant in either Toronto or San Francisco. Both cities are famous in world business communities but their real estate is very costly. So initially Rahul will go for rent instead of purchase__\n\n__Assuming that Rahul wants to rent a place for its Restaurant, now -__\n#####    __1. He needs to choose city between Toronto and San Francesco.__ \n#####    __2. While deciding city, Rahul have to consider__\n\n                i)   Multi-ethnicity data\n                ii)  Indian Community data\n                iii) Social Conditions like crime and violence data\n                iV)  Economics conditions like Economic stability and progress data\n                V)   Political stability & government policies for business data\n                (Data is available on https://www.zillow.com/research/data/,\n                                      https://en.wikipedia.org/wiki/Demographics_of_Toronto , \n                                      https://en.wikipedia.org/wiki/Demographics_of_San_Franciscoother \n                                      and other websites)\n                                      \n#####    __3. Once the city is decided he will have to find a suitable neighborhoods with more Indian and Asian people.__ \n               (Data is available in https://en.wikipedia.org/wiki/List_of_neighbourhoods_in_Toronto\n                                     https://en.wikipedia.org/wiki/List_of_neighborhoods_in_San_Francisco amd \n                                     in other CSV format)\n#####    __4. After neighborhood, Rahul have to find nearby Indian restaurant in neighborhood with their ratings.__\n               (Data can be assessed through Foursquare location data)\n#####    __Based on all the above parameters. One should be able to get ready to open a new INDIAN restaurant__", 
            "cell_type": "markdown", 
            "metadata": {}
        }, 
        {
            "execution_count": null, 
            "cell_type": "code", 
            "metadata": {}, 
            "outputs": [], 
            "source": ""
        }
    ], 
    "metadata": {
        "kernelspec": {
            "display_name": "Python 3.5", 
            "name": "python3", 
            "language": "python"
        }, 
        "language_info": {
            "mimetype": "text/x-python", 
            "nbconvert_exporter": "python", 
            "version": "3.5.5", 
            "name": "python", 
            "file_extension": ".py", 
            "pygments_lexer": "ipython3", 
            "codemirror_mode": {
                "version": 3, 
                "name": "ipython"
            }
        }
    }, 
    "nbformat": 4
}